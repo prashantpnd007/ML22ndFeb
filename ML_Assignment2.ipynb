{
 "cells": [
  {
   "cell_type": "markdown",
   "metadata": {},
   "source": [
    "# SESSION 2- ASSIGNMENT 1"
   ]
  },
  {
   "cell_type": "markdown",
   "metadata": {},
   "source": [
    " "
   ]
  },
  {
   "cell_type": "markdown",
   "metadata": {},
   "source": [
    "## TASK 1"
   ]
  },
  {
   "cell_type": "markdown",
   "metadata": {},
   "source": [
    "Q1.1- Write a Python Program to implement your own myreduce() function which works exactly like\n",
    "Python's built-in function reduce()"
   ]
  },
  {
   "cell_type": "code",
   "execution_count": 9,
   "metadata": {},
   "outputs": [
    {
     "name": "stdout",
     "output_type": "stream",
     "text": [
      "Enter the sequence of data with space:1 2 3 4 5 6 \n",
      "Choose the Operation to perform:\n",
      " 1- Addition\n",
      " 2- Subtraction\n",
      " 3-Multiplication\n",
      " 4- Division\n",
      "3\n"
     ]
    },
    {
     "data": {
      "text/plain": [
       "720"
      ]
     },
     "execution_count": 9,
     "metadata": {},
     "output_type": "execute_result"
    }
   ],
   "source": [
    "lst = input(\"Enter the sequence of data with space:\")        #getting data from the user.\n",
    "data = lst.split()\n",
    "\n",
    "operation = int(input(\"Choose the Operation to perform:\\n 1- Addition\\n 2- Subtraction\\n 3- Multiplication\\n 4- Division\\n\"))\n",
    "\n",
    "if (operation==1):\n",
    "    def func(x,y):\n",
    "        return (int(x)+int(y))\n",
    "elif (operation==2):\n",
    "    def func(x,y):\n",
    "        return (int(x)-int(y))\n",
    "elif (operation==3):\n",
    "    def func(x,y):\n",
    "        return (int(x)*int(y))\n",
    "elif (operation==4):\n",
    "    def func(x,y):\n",
    "        return (int(x)/int(y))\n",
    "else:\n",
    "    print(\"----ERROR----\")\n",
    "    \n",
    "def myreduce(function,sequence):\n",
    "    first= sequence[0]\n",
    "    for i in sequence[1:]:\n",
    "        first = function(first,i)\n",
    "    return first\n",
    "\n",
    "myreduce(func,data)"
   ]
  },
  {
   "cell_type": "markdown",
   "metadata": {},
   "source": [
    " \n",
    " "
   ]
  },
  {
   "cell_type": "markdown",
   "metadata": {},
   "source": [
    "Q1.2- Write a Python program to implement your own myfilter() function which works exactly like\n",
    "Python's built-in function filter()"
   ]
  },
  {
   "cell_type": "code",
   "execution_count": 10,
   "metadata": {
    "scrolled": true
   },
   "outputs": [
    {
     "data": {
      "text/plain": [
       "['1', '3', '5', '7', '9']"
      ]
     },
     "execution_count": 10,
     "metadata": {},
     "output_type": "execute_result"
    }
   ],
   "source": [
    "lst = input(\"Enter the sequence of data with space:\")        # getting the data sequence from the user\n",
    "data = lst.split()\n",
    "\n",
    "def odd_func(num):                                           # defining the function for boolean\n",
    "    if (int(num)%2 !=0):\n",
    "        return True\n",
    "x=[]\n",
    "\n",
    "def myfilter(function, iterable):                            # defining the function equivalent of filter()\n",
    "    for i in iterable:\n",
    "        if function(i)==True:\n",
    "            x.append(i)\n",
    "    return x\n",
    "\n",
    "myfilter(odd_func, data)\n",
    "    "
   ]
  },
  {
   "cell_type": "markdown",
   "metadata": {},
   "source": [
    " "
   ]
  },
  {
   "cell_type": "markdown",
   "metadata": {},
   "source": [
    " "
   ]
  },
  {
   "cell_type": "code",
   "execution_count": null,
   "metadata": {},
   "outputs": [],
   "source": [
    "Q2- Implement List comprehensions to produce the following lists.\n",
    "['A', 'C', 'A', 'D', 'G', 'I', ’L’, ‘ D’]\n",
    "['x', 'xx', 'xxx', 'xxxx', 'y', 'yy', 'yyy', 'yyyy', 'z', 'zz', 'zzz', 'zzzz']\n",
    "['x', 'y', 'z', 'xx', 'yy', 'zz', 'xx', 'yy', 'zz', 'xxxx', 'yyyy', 'zzzz']\n",
    "[[2], [3], [4], [3], [4], [5], [4], [5], [6]]\n",
    "[[2, 3, 4, 5], [3, 4, 5, 6], [4, 5, 6, 7], [5, 6, 7, 8]]\n",
    "[(1, 1), (2, 1), (3, 1), (1, 2), (2, 2), (3, 2), (1, 3), (2, 3), (3, 3)]"
   ]
  },
  {
   "cell_type": "code",
   "execution_count": 21,
   "metadata": {},
   "outputs": [
    {
     "data": {
      "text/plain": [
       "[(1, 1), (1, 2), (1, 3), (2, 1), (2, 2), (2, 3), (3, 1), (3, 2), (3, 3)]"
      ]
     },
     "execution_count": 21,
     "metadata": {},
     "output_type": "execute_result"
    }
   ],
   "source": [
    "## 1-['A', 'C', 'A', 'D', 'G', 'I', ’L’, ‘ D’]\n",
    "word= \"ACADGILD\"\n",
    "def splitword():\n",
    "    return [char for char in word]\n",
    "print(splitword())\n",
    "\n",
    "\n",
    "## 2-['x', 'xx', 'xxx', 'xxxx', 'y', 'yy', 'yyy', 'yyyy', 'z', 'zz', 'zzz', 'zzzz']\n",
    "word = list(\"xyz\")\n",
    "y=[]\n",
    "required = [y.append(j*i) for j in word for i in range(1,5)]\n",
    "y\n",
    "\n",
    "\n",
    "## 3- ['x', 'y', 'z', 'xx', 'yy', 'zz', 'xx', 'yy', 'zz', 'xxxx', 'yyyy', 'zzzz']\n",
    "word = list(\"xyz\")\n",
    "y=[]\n",
    "for i in range(1,5):\n",
    "    required = [y.append(j*i) for j in word ]\n",
    "y\n",
    "\n",
    "\n",
    "## 4- [[2], [3], [4], [3], [4], [5], [4], [5], [6]]\n",
    "required = [[(x+y)] for x in range(2,5) for y in range (0,3)]\n",
    "required\n",
    "\n",
    "\n",
    "\n",
    "## 5- [[2, 3, 4, 5], [3, 4, 5, 6], [4, 5, 6, 7], [5, 6, 7, 8]]\n",
    "data=[]\n",
    "for y in range (0,4):\n",
    "    required = [(x+y) for x in range(2,6)]\n",
    "    data.append(required)\n",
    "data\n",
    "\n",
    "\n",
    "\n",
    "## 6- [(1, 1), (2, 1), (3, 1), (1, 2), (2, 2), (3, 2), (1, 3), (2, 3), (3, 3)]\n",
    "required = [(x,y) for x in range(1,4) for y in range(1,4)]\n",
    "required\n"
   ]
  },
  {
   "cell_type": "markdown",
   "metadata": {},
   "source": [
    " "
   ]
  },
  {
   "cell_type": "markdown",
   "metadata": {},
   "source": [
    " "
   ]
  },
  {
   "cell_type": "markdown",
   "metadata": {},
   "source": [
    "Q3- Implement a function longestWord() that takes a list of words and returns the longest one."
   ]
  },
  {
   "cell_type": "code",
   "execution_count": 2,
   "metadata": {},
   "outputs": [
    {
     "name": "stdout",
     "output_type": "stream",
     "text": [
      "Enter the words with a space:adwd hjbdckbkjwbhefk kjbkjb kjbckj\n"
     ]
    },
    {
     "data": {
      "text/plain": [
       "'hjbdckbkjwbhefk'"
      ]
     },
     "execution_count": 2,
     "metadata": {},
     "output_type": "execute_result"
    }
   ],
   "source": [
    "data = []\n",
    "y =[]\n",
    "def longestWord():\n",
    "    lst = input(\"Enter the words with a space:\").split()\n",
    "    for i in lst:\n",
    "        data.append((len(i),i))\n",
    "    data.sort()\n",
    "    return data[-1][1]\n",
    "\n",
    "longestWord()\n"
   ]
  },
  {
   "cell_type": "markdown",
   "metadata": {},
   "source": [
    " "
   ]
  },
  {
   "cell_type": "markdown",
   "metadata": {},
   "source": [
    "## TASK 2"
   ]
  },
  {
   "cell_type": "markdown",
   "metadata": {},
   "source": [
    "Q1.1 Write a Python Program(with class concepts) to find the area of the triangle using the below\n",
    "formula.\n",
    "\n",
    "area = (s*(s-a)*(s-b)*(s-c)) ** 0.5\n",
    "\n",
    "Function to take the length of the sides of triangle from user should be defined in the parent\n",
    "class and function to calculate the area should be defined in subclass."
   ]
  },
  {
   "cell_type": "code",
   "execution_count": 7,
   "metadata": {},
   "outputs": [
    {
     "name": "stdout",
     "output_type": "stream",
     "text": [
      "Enter length of side A:12\n",
      "Enter length of side B:12\n",
      "Enter length of side C:12\n"
     ]
    },
    {
     "data": {
      "text/plain": [
       "62.353829072479584"
      ]
     },
     "execution_count": 7,
     "metadata": {},
     "output_type": "execute_result"
    }
   ],
   "source": [
    "class Requirement:\n",
    "    def __init__(self):\n",
    "        self.sideA = float(input(\"Enter length of side A:\"))\n",
    "        self.sideB = float(input(\"Enter length of side B:\"))\n",
    "        self.sideC = float(input(\"Enter length of side C:\"))\n",
    "       \n",
    "\n",
    "class Area(Requirement):\n",
    "    \n",
    "    def __init__(self):\n",
    "        super().__init__()\n",
    "    \n",
    "    def calculation(self):\n",
    "        s = (self.sideA + self.sideB + self.sideC)/2\n",
    "        Required_Area = (s*(s-self.sideA)*(s-self.sideB)*(s-self.sideC))**0.5\n",
    "        return Required_Area\n",
    "\n",
    "data2 = Area()\n",
    "data2.calculation()\n"
   ]
  },
  {
   "cell_type": "markdown",
   "metadata": {},
   "source": [
    " "
   ]
  },
  {
   "cell_type": "markdown",
   "metadata": {},
   "source": [
    "Q1.2- Write a function filter_long_words() that takes a list of words and an integer n and returns the list\n",
    "of words that are longer than n."
   ]
  },
  {
   "cell_type": "code",
   "execution_count": 31,
   "metadata": {},
   "outputs": [
    {
     "name": "stdout",
     "output_type": "stream",
     "text": [
      "Enter the list of words with a space:gfdhtyjhf hmvhgdc vgc b cf mhvjf\n",
      "Enter the word length limit4\n"
     ]
    },
    {
     "data": {
      "text/plain": [
       "['gfdhtyjhf', 'hmvhgdc', 'mhvjf']"
      ]
     },
     "execution_count": 31,
     "metadata": {},
     "output_type": "execute_result"
    }
   ],
   "source": [
    "data = []\n",
    "def filter_long_words():\n",
    "    words = input(\"Enter the list of words with a space:\").split()\n",
    "    limit = int(input(\"Enter the word length limit\"))\n",
    "    for i in range(len(words)):\n",
    "        if (len(words[i])>limit):\n",
    "            data.append(words[i])\n",
    "    return data\n",
    "filter_long_words()"
   ]
  },
  {
   "cell_type": "markdown",
   "metadata": {},
   "source": [
    " "
   ]
  },
  {
   "cell_type": "markdown",
   "metadata": {},
   "source": [
    "Q2.1- Write a Python program using function concept that maps list of words into a list of integers\n",
    "representing the lengths of the corresponding words."
   ]
  },
  {
   "cell_type": "code",
   "execution_count": 1,
   "metadata": {},
   "outputs": [
    {
     "name": "stdout",
     "output_type": "stream",
     "text": [
      "Enter the words with a space:hgcjhv jhvjhygukg bv hbj\n"
     ]
    },
    {
     "data": {
      "text/plain": [
       "[6, 10, 2, 3]"
      ]
     },
     "execution_count": 1,
     "metadata": {},
     "output_type": "execute_result"
    }
   ],
   "source": [
    "def word_to_length():\n",
    "    words = input(\"Enter the words with a space:\").split()\n",
    "    length = list(map(lambda x: len(x), words))\n",
    "    return length\n",
    "\n",
    "word_to_length()\n",
    "    "
   ]
  },
  {
   "cell_type": "markdown",
   "metadata": {},
   "source": [
    " "
   ]
  },
  {
   "cell_type": "markdown",
   "metadata": {},
   "source": [
    "Q2.2- Write a Python function which takes a character (i.e. a string of length 1) and returns True if it is\n",
    "a vowel, False otherwise."
   ]
  },
  {
   "cell_type": "code",
   "execution_count": 16,
   "metadata": {},
   "outputs": [
    {
     "name": "stdout",
     "output_type": "stream",
     "text": [
      "Enter 1 alphabet:g\n",
      "False\n"
     ]
    }
   ],
   "source": [
    "def is_vowel():\n",
    "    x = [\"a\",\"A\",\"e\",\"E\",\"i\",\"I\",\"o\",\"O\",\"u\",\"U\"]\n",
    "    char = input(\"Enter 1 alphabet:\")\n",
    "    print(char in x)\n",
    "\n",
    "is_vowel()\n",
    "    \n",
    "        \n",
    "        "
   ]
  }
 ],
 "metadata": {
  "kernelspec": {
   "display_name": "Python 3",
   "language": "python",
   "name": "python3"
  },
  "language_info": {
   "codemirror_mode": {
    "name": "ipython",
    "version": 3
   },
   "file_extension": ".py",
   "mimetype": "text/x-python",
   "name": "python",
   "nbconvert_exporter": "python",
   "pygments_lexer": "ipython3",
   "version": "3.7.3"
  }
 },
 "nbformat": 4,
 "nbformat_minor": 2
}
