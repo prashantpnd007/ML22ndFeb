{
 "cells": [
  {
   "cell_type": "code",
   "execution_count": 1,
   "metadata": {},
   "outputs": [],
   "source": [
    "import numpy as np"
   ]
  },
  {
   "cell_type": "markdown",
   "metadata": {},
   "source": [
    "Q1- Write a function so that the columns of the output matrix are powers of the input\n",
    "vector.\n",
    "The order of the powers is determined by the increasing boolean argument. Specifically, when\n",
    "increasing is False, the i-th output column is the input vector raised element-wise to the power\n",
    "of N - i - 1.\n",
    "\n",
    "HINT: Such a matrix with a geometric progression in each row is named for Alexandre-\n",
    "Theophile Vandermonde."
   ]
  },
  {
   "cell_type": "code",
   "execution_count": 2,
   "metadata": {},
   "outputs": [
    {
     "data": {
      "text/plain": [
       "array([[ 1,  1,  1],\n",
       "       [ 4,  2,  1],\n",
       "       [ 9,  3,  1],\n",
       "       [25,  5,  1]], dtype=int32)"
      ]
     },
     "execution_count": 2,
     "metadata": {},
     "output_type": "execute_result"
    }
   ],
   "source": [
    "def alexandre_theophile_matrix(N):\n",
    "    x = np.array([1, 2, 3, 5])\n",
    "    return np.column_stack([x**(N-1-i) for i in range(N)])\n",
    "\n",
    "alexandre_theophile_matrix(3)"
   ]
  },
  {
   "cell_type": "markdown",
   "metadata": {},
   "source": [
    " "
   ]
  },
  {
   "cell_type": "markdown",
   "metadata": {},
   "source": [
    "Q2- Write a function to find moving average in an array over a window:    \n",
    "Test it over [3, 5, 7, 2, 8, 10, 11, 65, 72, 81, 99, 100, 150] and window of 3."
   ]
  },
  {
   "cell_type": "code",
   "execution_count": 23,
   "metadata": {},
   "outputs": [
    {
     "name": "stdout",
     "output_type": "stream",
     "text": [
      "Enter the array of data with a space:3 5 7 2 8 10 11 65 72 81 99 100 150\n"
     ]
    },
    {
     "data": {
      "text/plain": [
       "[5.0,\n",
       " 4.666666666666667,\n",
       " 5.666666666666667,\n",
       " 6.666666666666667,\n",
       " 9.666666666666666,\n",
       " 28.666666666666668,\n",
       " 49.333333333333336,\n",
       " 72.66666666666667,\n",
       " 84.0,\n",
       " 93.33333333333333,\n",
       " 116.33333333333333]"
      ]
     },
     "execution_count": 23,
     "metadata": {},
     "output_type": "execute_result"
    }
   ],
   "source": [
    "avg = []\n",
    "def moving_avg(N):\n",
    "    data = input(\"Enter the array of data with a space:\").split()\n",
    "    for i in range (len(data)-N+1):\n",
    "        total=0\n",
    "        for j in range (N):\n",
    "            total += int(data[i+j])\n",
    "        cal = total/N\n",
    "        avg.append(cal)\n",
    "    return avg\n",
    "\n",
    "moving_avg(3)        "
   ]
  }
 ],
 "metadata": {
  "kernelspec": {
   "display_name": "Python 3",
   "language": "python",
   "name": "python3"
  },
  "language_info": {
   "codemirror_mode": {
    "name": "ipython",
    "version": 3
   },
   "file_extension": ".py",
   "mimetype": "text/x-python",
   "name": "python",
   "nbconvert_exporter": "python",
   "pygments_lexer": "ipython3",
   "version": "3.7.6"
  }
 },
 "nbformat": 4,
 "nbformat_minor": 4
}
